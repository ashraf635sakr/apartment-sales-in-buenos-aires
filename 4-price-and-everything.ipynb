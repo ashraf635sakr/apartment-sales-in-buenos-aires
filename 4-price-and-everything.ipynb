{
 "cells": [
  {
   "cell_type": "markdown",
   "id": "2b3a3988",
   "metadata": {},
   "source": [
    "<font size=\"+3\"><strong> Predicting Price with Size, Location, and Neighborhood</strong></font>"
   ]
  },
  {
   "cell_type": "code",
   "execution_count": 1,
   "id": "d32e76d7",
   "metadata": {},
   "outputs": [],
   "source": [
    "from glob import glob\n",
    "import numpy as np\n",
    "import pandas as pd\n",
    "import seaborn as sns\n",
    "import plotly.express as px\n",
    "import plotly.graph_objects as go\n",
    "from category_encoders import OneHotEncoder\n",
    "from ipywidgets import Dropdown, FloatSlider, IntSlider, interact\n",
    "from sklearn.impute import SimpleImputer\n",
    "from sklearn.linear_model import LinearRegression, Ridge  # noqa F401\n",
    "from sklearn.metrics import mean_absolute_error\n",
    "from sklearn.pipeline import make_pipeline\n",
    "from sklearn.utils.validation import check_is_fitted\n"
   ]
  },
  {
   "cell_type": "markdown",
   "id": "6cac4227",
   "metadata": {},
   "source": [
    "In the final lesson for this project, we're going to try to use all the features in our dataset to improve our model. This means that we'll have to do a more careful cleaning of the dataset and consider some of the finer points of linear models."
   ]
  },
  {
   "cell_type": "markdown",
   "id": "24bd2868",
   "metadata": {},
   "source": [
    "# Prepare Data"
   ]
  },
  {
   "cell_type": "markdown",
   "id": "1b4d62f7",
   "metadata": {},
   "source": [
    "## Import"
   ]
  },
  {
   "cell_type": "code",
   "execution_count": 2,
   "id": "63a6bad7",
   "metadata": {},
   "outputs": [],
   "source": [
    "def wrangle(filepath):\n",
    "    # Read CSV file\n",
    "    df = pd.read_csv(filepath)\n",
    "\n",
    "    # Subset data: Apartments in \"Capital Federal\", less than 400,000\n",
    "    mask_ba = df[\"place_with_parent_names\"].str.contains(\"Capital Federal\")\n",
    "    mask_apt = df[\"property_type\"] == \"apartment\"\n",
    "    mask_price = df[\"price_aprox_usd\"] < 400_000\n",
    "    df = df[mask_ba & mask_apt & mask_price]\n",
    "\n",
    "    # Subset data: Remove outliers for \"surface_covered_in_m2\"\n",
    "    low, high = df[\"surface_covered_in_m2\"].quantile([0.1, 0.9])\n",
    "    mask_area = df[\"surface_covered_in_m2\"].between(low, high)\n",
    "    df = df[mask_area]\n",
    "\n",
    "    # Split \"lat-lon\" column\n",
    "    df[[\"lat\", \"lon\"]] = df[\"lat-lon\"].str.split(\",\", expand=True).astype(float)\n",
    "    df.drop(columns=\"lat-lon\", inplace=True)\n",
    "\n",
    "    # Get place name\n",
    "    df[\"neighborhood\"] = df[\"place_with_parent_names\"].str.split(\"|\", expand=True)[3]\n",
    "    df.drop(columns=\"place_with_parent_names\", inplace=True)\n",
    "\n",
    "    # drop columns with high null counts\n",
    "    df.drop(columns=[\"floor\",\"expenses\"],inplace=True)\n",
    "    \n",
    "    # drop columns with high and low cardinality\n",
    "    df.drop(columns=[\"operation\",\"property_type\",\"currency\",\"properati_url\"],inplace=True)\n",
    "    \n",
    "    # drop leaky columns\n",
    "    df.drop(columns=[\n",
    "         'price',\n",
    "         'price_aprox_local_currency',\n",
    "         'price_per_m2',\n",
    "         'price_usd_per_m2']\n",
    "           ,inplace=True)\n",
    "    \n",
    "    # drop columns with multicollinearity\n",
    "    df.drop(columns=['surface_total_in_m2','rooms'], inplace=True)\n",
    "    return df"
   ]
  },
  {
   "cell_type": "markdown",
   "id": "479c0cdf",
   "metadata": {},
   "source": [
    "**Task 2.4.1:** Use [`glob`](https://docs.python.org/3/library/glob.html#glob.glob) to create a list that contains the filenames for all the Buenos Aires real estate CSV files in the `data` directory. Assign this list to the variable name `files`.\n"
   ]
  },
  {
   "cell_type": "code",
   "execution_count": 3,
   "id": "11888186",
   "metadata": {},
   "outputs": [
    {
     "data": {
      "text/plain": [
       "['data\\\\buenos-aires-real-estate-1.csv',\n",
       " 'data\\\\buenos-aires-real-estate-2.csv',\n",
       " 'data\\\\buenos-aires-real-estate-3.csv',\n",
       " 'data\\\\buenos-aires-real-estate-4.csv',\n",
       " 'data\\\\buenos-aires-real-estate-5.csv']"
      ]
     },
     "execution_count": 3,
     "metadata": {},
     "output_type": "execute_result"
    }
   ],
   "source": [
    "files = glob(\"data/buenos-aires-real-estate-[1-5].csv\")\n",
    "files"
   ]
  },
  {
   "cell_type": "markdown",
   "id": "faae8ed8",
   "metadata": {},
   "source": [
    "The last time we put all our DataFrames into a list, we used a `for` loop. This time, we're going to use a more compact coding technique called a **list comprehension**.  "
   ]
  },
  {
   "cell_type": "markdown",
   "id": "687ba4ce",
   "metadata": {},
   "source": [
    "**Task 2.4.2:** Use your `wrangle` function in a list comprehension to create a list named `frames`. The list should contain the cleaned DataFrames for the filenames your collected in `files`.\n"
   ]
  },
  {
   "cell_type": "code",
   "execution_count": 4,
   "id": "d89f3e32",
   "metadata": {},
   "outputs": [],
   "source": [
    "frames = [wrangle(file) for file in files]"
   ]
  },
  {
   "cell_type": "markdown",
   "id": "8bfb8a67",
   "metadata": {},
   "source": [
    "**Task 2.4.3:** Use [`pd.concat`](https://pandas.pydata.org/docs/reference/api/pandas.concat.html) to concatenate it items in `frames` into a single DataFrame `df`. Make sure you set the `ignore_index` argument to `True`."
   ]
  },
  {
   "cell_type": "code",
   "execution_count": 5,
   "id": "339e59ce",
   "metadata": {},
   "outputs": [
    {
     "name": "stdout",
     "output_type": "stream",
     "text": [
      "<class 'pandas.core.frame.DataFrame'>\n",
      "RangeIndex: 6582 entries, 0 to 6581\n",
      "Data columns (total 5 columns):\n",
      " #   Column                 Non-Null Count  Dtype  \n",
      "---  ------                 --------------  -----  \n",
      " 0   price_aprox_usd        6582 non-null   float64\n",
      " 1   surface_covered_in_m2  6582 non-null   float64\n",
      " 2   lat                    6316 non-null   float64\n",
      " 3   lon                    6316 non-null   float64\n",
      " 4   neighborhood           6582 non-null   object \n",
      "dtypes: float64(4), object(1)\n",
      "memory usage: 257.2+ KB\n",
      "None\n"
     ]
    },
    {
     "data": {
      "text/html": [
       "<div>\n",
       "<style scoped>\n",
       "    .dataframe tbody tr th:only-of-type {\n",
       "        vertical-align: middle;\n",
       "    }\n",
       "\n",
       "    .dataframe tbody tr th {\n",
       "        vertical-align: top;\n",
       "    }\n",
       "\n",
       "    .dataframe thead th {\n",
       "        text-align: right;\n",
       "    }\n",
       "</style>\n",
       "<table border=\"1\" class=\"dataframe\">\n",
       "  <thead>\n",
       "    <tr style=\"text-align: right;\">\n",
       "      <th></th>\n",
       "      <th>price_aprox_usd</th>\n",
       "      <th>surface_covered_in_m2</th>\n",
       "      <th>lat</th>\n",
       "      <th>lon</th>\n",
       "      <th>neighborhood</th>\n",
       "    </tr>\n",
       "  </thead>\n",
       "  <tbody>\n",
       "    <tr>\n",
       "      <th>0</th>\n",
       "      <td>129000.0</td>\n",
       "      <td>70.0</td>\n",
       "      <td>-34.584651</td>\n",
       "      <td>-58.454693</td>\n",
       "      <td>Chacarita</td>\n",
       "    </tr>\n",
       "    <tr>\n",
       "      <th>1</th>\n",
       "      <td>87000.0</td>\n",
       "      <td>42.0</td>\n",
       "      <td>-34.638979</td>\n",
       "      <td>-58.500115</td>\n",
       "      <td>Villa Luro</td>\n",
       "    </tr>\n",
       "    <tr>\n",
       "      <th>2</th>\n",
       "      <td>118000.0</td>\n",
       "      <td>54.0</td>\n",
       "      <td>-34.615847</td>\n",
       "      <td>-58.459957</td>\n",
       "      <td>Caballito</td>\n",
       "    </tr>\n",
       "    <tr>\n",
       "      <th>3</th>\n",
       "      <td>57000.0</td>\n",
       "      <td>42.0</td>\n",
       "      <td>-34.625222</td>\n",
       "      <td>-58.382382</td>\n",
       "      <td>Constitución</td>\n",
       "    </tr>\n",
       "    <tr>\n",
       "      <th>4</th>\n",
       "      <td>90000.0</td>\n",
       "      <td>50.0</td>\n",
       "      <td>-34.610610</td>\n",
       "      <td>-58.412511</td>\n",
       "      <td>Once</td>\n",
       "    </tr>\n",
       "  </tbody>\n",
       "</table>\n",
       "</div>"
      ],
      "text/plain": [
       "   price_aprox_usd  surface_covered_in_m2        lat        lon  neighborhood\n",
       "0         129000.0                   70.0 -34.584651 -58.454693     Chacarita\n",
       "1          87000.0                   42.0 -34.638979 -58.500115    Villa Luro\n",
       "2         118000.0                   54.0 -34.615847 -58.459957     Caballito\n",
       "3          57000.0                   42.0 -34.625222 -58.382382  Constitución\n",
       "4          90000.0                   50.0 -34.610610 -58.412511          Once"
      ]
     },
     "execution_count": 5,
     "metadata": {},
     "output_type": "execute_result"
    }
   ],
   "source": [
    "df = pd.concat(frames, ignore_index=True)\n",
    "print(df.info())\n",
    "df.head()"
   ]
  },
  {
   "cell_type": "markdown",
   "id": "57c97dbf",
   "metadata": {},
   "source": [
    "## Explore"
   ]
  },
  {
   "cell_type": "markdown",
   "id": "0b404039",
   "metadata": {},
   "source": [
    "The first thing we need to consider when trying to use all the features `df` is **missing values**. While it's true you can impute missing values, there still needs to be enough data in a column to do a good imputation. A general rule is that, if more than half of the data in a column is missing, it's better to drop it then try imputing.\n",
    "\n",
    "Take a look at the output from `df.info()` above. Are there columns where more than half of the values are `NaN`? If so, those columns need to go! "
   ]
  },
  {
   "cell_type": "markdown",
   "id": "31a930a9",
   "metadata": {},
   "source": [
    "**Task 2.4.4:** Modify your `wrangle` function to drop any columns that are more than half `NaN` values. Be sure to rerun all the cells above before you continue.\n"
   ]
  },
  {
   "cell_type": "code",
   "execution_count": 6,
   "id": "bf2db83a",
   "metadata": {},
   "outputs": [
    {
     "data": {
      "text/plain": [
       "price_aprox_usd          0.000000\n",
       "surface_covered_in_m2    0.000000\n",
       "lat                      0.040413\n",
       "lon                      0.040413\n",
       "neighborhood             0.000000\n",
       "dtype: float64"
      ]
     },
     "execution_count": 6,
     "metadata": {},
     "output_type": "execute_result"
    }
   ],
   "source": [
    "df.isnull().sum()/len(df)"
   ]
  },
  {
   "cell_type": "markdown",
   "id": "46ab60a5",
   "metadata": {},
   "source": [
    "The next thing we need to look out for are categorical columns with **low or high cardinality**. If there's only one category in a column, it won't provide any unique information to our model. At the other extreme, columns where nearly every row has its own category won't help our model in identifying useful trends in the data.\n",
    "\n",
    "Let's take a look at the cardinality of our features."
   ]
  },
  {
   "cell_type": "markdown",
   "id": "27109094",
   "metadata": {},
   "source": [
    "**Task 2.4.5:** Calculate the number of unique values for each non-numeric feature in `df`.\n"
   ]
  },
  {
   "cell_type": "code",
   "execution_count": 7,
   "id": "7c94439b",
   "metadata": {},
   "outputs": [
    {
     "data": {
      "text/plain": [
       "neighborhood    57\n",
       "dtype: int64"
      ]
     },
     "execution_count": 7,
     "metadata": {},
     "output_type": "execute_result"
    }
   ],
   "source": [
    "df.select_dtypes(\"object\").nunique()"
   ]
  },
  {
   "cell_type": "markdown",
   "id": "660c8a0f",
   "metadata": {},
   "source": [
    "Here, we can see that columns like `\"operation\"` have only one value in them, while every row in `\"properati_url\"` has a unique value. These are clear examples of high- and low-cardinality features that we shouldn't include in our model."
   ]
  },
  {
   "cell_type": "markdown",
   "id": "168cdc3d",
   "metadata": {},
   "source": [
    "**Task 2.4.6:** Modify your `wrangle` function to drop high- and low-cardinality categorical features.\n",
    "\n",
    "Be sure to rerun all the cells above before you continue.\n"
   ]
  },
  {
   "cell_type": "markdown",
   "id": "d6d85100",
   "metadata": {},
   "source": [
    "It's also important for us to drop any columns that would constitute **leakage**, that is, features that were created using our target or that would give our model information that it won't have access to when it's deployed. "
   ]
  },
  {
   "cell_type": "markdown",
   "id": "13d12973",
   "metadata": {},
   "source": [
    "**Task 2.4.7:** Modify your `wrangle` function to drop any features that would constitute leakage. \n",
    "\n",
    "Be sure to rerun all the cells above before you continue.\n"
   ]
  },
  {
   "cell_type": "code",
   "execution_count": 8,
   "id": "b3043c46",
   "metadata": {},
   "outputs": [
    {
     "data": {
      "text/plain": [
       "['lat', 'lon', 'neighborhood', 'price_aprox_usd', 'surface_covered_in_m2']"
      ]
     },
     "execution_count": 8,
     "metadata": {},
     "output_type": "execute_result"
    }
   ],
   "source": [
    "sorted(df.columns)"
   ]
  },
  {
   "cell_type": "markdown",
   "id": "2eefc618",
   "metadata": {},
   "source": [
    "Finally, the last issue we need to keep an eye out for is **multicollinearity**, that is, features in our feature matrix that are highly correlated with each other. A good way to detect this is to use a heatmap. Let's make one!"
   ]
  },
  {
   "cell_type": "markdown",
   "id": "04520929",
   "metadata": {},
   "source": [
    "**Task 2.4.8:** Plot a correlation heatmap of the remaining numerical features in `df`. Since `\"price_aprox_usd\"` will be your target, you don't need to include it in your heatmap.\n",
    "​"
   ]
  },
  {
   "cell_type": "code",
   "execution_count": 9,
   "id": "4b03ff50",
   "metadata": {},
   "outputs": [
    {
     "data": {
      "text/plain": [
       "<AxesSubplot:>"
      ]
     },
     "execution_count": 9,
     "metadata": {},
     "output_type": "execute_result"
    },
    {
     "data": {
      "image/png": "[encoded data removed]",
      "text/plain": [
       "<Figure size 432x288 with 2 Axes>"
      ]
     },
     "metadata": {
      "needs_background": "light"
     },
     "output_type": "display_data"
    }
   ],
   "source": [
    "corr=df.select_dtypes(\"number\").drop(columns=\"price_aprox_usd\").corr()\n",
    "sns.heatmap(corr)"
   ]
  },
  {
   "cell_type": "markdown",
   "id": "bdc53acf",
   "metadata": {},
   "source": [
    "**Task 2.4.9:** Modify your `wrangle` function to remove columns so that there are no strongly correlated features in your feature matrix.\n",
    "\n",
    "Be sure to rerun all the cells above before you continue.\n"
   ]
  },
  {
   "cell_type": "markdown",
   "id": "446839b8",
   "metadata": {},
   "source": [
    "## Split Data"
   ]
  },
  {
   "cell_type": "markdown",
   "id": "9d97f7d8",
   "metadata": {},
   "source": [
    "**Task 2.4.10:** Create your feature matrix `X_train` and target vector `y_train`. Your target is `\"price_aprox_usd\"`. Your features should be all the columns that remain in the DataFrame you cleaned above.\n"
   ]
  },
  {
   "cell_type": "code",
   "execution_count": 10,
   "id": "5981cdd1",
   "metadata": {},
   "outputs": [],
   "source": [
    "target = \"price_aprox_usd\"\n",
    "feature= [\"surface_covered_in_m2\",\"lat\",\"lon\",\"neighborhood\"]\n",
    "X_train=df[feature]\n",
    "y_train=df[target]"
   ]
  },
  {
   "cell_type": "markdown",
   "id": "a089f97b",
   "metadata": {},
   "source": [
    "# Build Model"
   ]
  },
  {
   "cell_type": "markdown",
   "id": "0b8ab6ac",
   "metadata": {},
   "source": [
    "## Baseline"
   ]
  },
  {
   "cell_type": "markdown",
   "id": "61e57e18",
   "metadata": {},
   "source": [
    "**Task 2.4.11:** Calculate the baseline mean absolute error for your model.\n"
   ]
  },
  {
   "cell_type": "code",
   "execution_count": 11,
   "id": "003592d7",
   "metadata": {},
   "outputs": [
    {
     "name": "stdout",
     "output_type": "stream",
     "text": [
      "Mean apt price: 132383.83701458527\n",
      "Baseline MAE: 44860.10834274134\n"
     ]
    }
   ],
   "source": [
    "y_mean=y_train.mean()\n",
    "print(\"Mean apt price:\", y_mean)\n",
    "y_pre_baseline=[y_mean]*len(y_train)\n",
    "print(\"Baseline MAE:\", mean_absolute_error(y_train,y_pre_baseline))"
   ]
  },
  {
   "cell_type": "markdown",
   "id": "3ced35c3",
   "metadata": {},
   "source": [
    "## Iterate"
   ]
  },
  {
   "cell_type": "markdown",
   "id": "2ca55bd9",
   "metadata": {},
   "source": [
    "**Task 2.4.12:** Create a pipeline named `model` that contains a `OneHotEncoder`, `SimpleImputer`, and `Ridge` predictor."
   ]
  },
  {
   "cell_type": "code",
   "execution_count": 12,
   "id": "76a52dad",
   "metadata": {},
   "outputs": [
    {
     "data": {
      "text/plain": [
       "Pipeline(steps=[('onehotencoder',\n",
       "                 OneHotEncoder(cols=['neighborhood'], use_cat_names=True)),\n",
       "                ('simpleimputer', SimpleImputer()), ('ridge', Ridge())])"
      ]
     },
     "execution_count": 12,
     "metadata": {},
     "output_type": "execute_result"
    }
   ],
   "source": [
    "model = make_pipeline(\n",
    "    OneHotEncoder(use_cat_names=True),\n",
    "    SimpleImputer(),\n",
    "    Ridge()\n",
    ")\n",
    "model.fit(X_train,y_train)"
   ]
  },
  {
   "cell_type": "markdown",
   "id": "e2ab0507",
   "metadata": {},
   "source": [
    "## Evaluate"
   ]
  },
  {
   "cell_type": "markdown",
   "id": "58f54642",
   "metadata": {},
   "source": [
    "**Task 2.4.13:** Calculate the training mean absolute error for your predictions as compared to the true targets in `y_train`.\n"
   ]
  },
  {
   "cell_type": "code",
   "execution_count": 13,
   "id": "3204c216",
   "metadata": {},
   "outputs": [
    {
     "name": "stdout",
     "output_type": "stream",
     "text": [
      "Training MAE: 24207.10719033024\n"
     ]
    }
   ],
   "source": [
    "y_pred_training = model.predict(X_train)\n",
    "print(\"Training MAE:\", mean_absolute_error(y_train,y_pred_training))"
   ]
  },
  {
   "cell_type": "markdown",
   "id": "83ba019f",
   "metadata": {},
   "source": [
    "**Task 2.4.14:** Import your test data `buenos-aires-test-features.csv` into a DataFrame and generate a list of predictions using your model. Then run the following cell to submit your predictions to the grader."
   ]
  },
  {
   "cell_type": "code",
   "execution_count": 14,
   "id": "24190a41",
   "metadata": {},
   "outputs": [
    {
     "data": {
      "text/plain": [
       "0    231122.403569\n",
       "1    162572.942392\n",
       "2     68477.949626\n",
       "3     63521.438989\n",
       "4    105694.463885\n",
       "dtype: float64"
      ]
     },
     "execution_count": 14,
     "metadata": {},
     "output_type": "execute_result"
    }
   ],
   "source": [
    "X_test = pd.read_csv(\"data/buenos-aires-test-features.csv\")\n",
    "y_pred_test = pd.Series(model.predict(X_test))\n",
    "y_pred_test.head()"
   ]
  },
  {
   "cell_type": "markdown",
   "id": "03543511",
   "metadata": {},
   "source": [
    "# Communicate Results"
   ]
  },
  {
   "cell_type": "markdown",
   "id": "c06844f0",
   "metadata": {},
   "source": [
    "For this lesson, we've relied on equations and visualizations for communication about our model. In many data science projects, however, communication means giving stakeholders tools they can use to **deploy** a model — in other words, use it in action. So let's look at two ways you might deploy this model. \n",
    "\n",
    "One thing you might be asked to do it wrap your model in a function so that a programmer can provide inputs and then receive a prediction as output. "
   ]
  },
  {
   "cell_type": "markdown",
   "id": "51a91ad6",
   "metadata": {},
   "source": [
    "**Task 2.4.15:** Create a function `make_prediction` that takes four arguments (`area`, `lat`, `lon`, and `neighborhood`) and returns your model's prediction for an apartment price. "
   ]
  },
  {
   "cell_type": "code",
   "execution_count": 15,
   "id": "2ff811ef",
   "metadata": {},
   "outputs": [],
   "source": [
    "def make_prediction(area, lat, lon, neighborhood):\n",
    "    data={\n",
    "        \"surface_covered_in_m2\":area,\n",
    "        \"lat\":lat,\n",
    "        \"lon\":lon,\n",
    "        \"neighborhood\":neighborhood\n",
    "    }\n",
    "    df=pd.DataFrame(data,index=[0])\n",
    "    prediction = model.predict(df).round(2)\n",
    "    return f\"Predicted apartment price: ${prediction}\""
   ]
  },
  {
   "cell_type": "markdown",
   "id": "37c35dc4",
   "metadata": {},
   "source": [
    "Let's see if your function works. Run the cell below to find out!"
   ]
  },
  {
   "cell_type": "code",
   "execution_count": 16,
   "id": "463a9871",
   "metadata": {},
   "outputs": [
    {
     "data": {
      "text/plain": [
       "'Predicted apartment price: $[250775.11]'"
      ]
     },
     "execution_count": 16,
     "metadata": {},
     "output_type": "execute_result"
    }
   ],
   "source": [
    "make_prediction(110, -34.60, -58.46, \"Villa Crespo\")"
   ]
  },
  {
   "cell_type": "markdown",
   "id": "ee521468",
   "metadata": {},
   "source": [
    "Another type of deployment is creating and interactive dashboard, where a user can supply values and receive a prediction. Let's create one using [Jupyter Widgets](https://ipywidgets.readthedocs.io/en/latest/index.html).<span style='color: transparent; font-size:1%'>WQU WorldQuant University Applied Data Science Lab QQQQ</span>"
   ]
  },
  {
   "cell_type": "markdown",
   "id": "4580b8ad",
   "metadata": {},
   "source": [
    "**Task 2.4.16:** Make interact widget , run the cell, and then adjust the widget to see how predicted apartment price changes. \n",
    "\n",
    "- Create an interact function in Jupyter Widgets."
   ]
  },
  {
   "cell_type": "code",
   "execution_count": 17,
   "id": "6154027b",
   "metadata": {},
   "outputs": [
    {
     "data": {
      "application/vnd.jupyter.widget-view+json": {
       "model_id": "ecc3226ed6164d2092762a126ada26cb",
       "version_major": 2,
       "version_minor": 0
      },
      "text/plain": [
       "interactive(children=(IntSlider(value=53, description='area', max=101, min=30), FloatSlider(value=-34.59890626…"
      ]
     },
     "metadata": {},
     "output_type": "display_data"
    }
   ],
   "source": [
    "interact(\n",
    "    make_prediction,\n",
    "    area=IntSlider(\n",
    "        min=X_train[\"surface_covered_in_m2\"].min(),\n",
    "        max=X_train[\"surface_covered_in_m2\"].max(),\n",
    "        value=X_train[\"surface_covered_in_m2\"].mean(),\n",
    "    ),\n",
    "    lat=FloatSlider(\n",
    "        min=X_train[\"lat\"].min(),\n",
    "        max=X_train[\"lat\"].max(),\n",
    "        step=0.01,\n",
    "        value=X_train[\"lat\"].mean(),\n",
    "    ),\n",
    "    lon=FloatSlider(\n",
    "        min=X_train[\"lon\"].min(),\n",
    "        max=X_train[\"lon\"].max(),\n",
    "        step=0.01,\n",
    "        value=X_train[\"lon\"].mean(),\n",
    "    ),\n",
    "    neighborhood=Dropdown(options=sorted(X_train[\"neighborhood\"].unique())),\n",
    ");"
   ]
  },
  {
   "cell_type": "code",
   "execution_count": null,
   "id": "778ddf33",
   "metadata": {},
   "outputs": [],
   "source": []
  }
 ],
 "metadata": {
  "kernelspec": {
   "display_name": "Python 3 (ipykernel)",
   "language": "python",
   "name": "python3"
  },
  "language_info": {
   "codemirror_mode": {
    "name": "ipython",
    "version": 3
   },
   "file_extension": ".py",
   "mimetype": "text/x-python",
   "name": "python",
   "nbconvert_exporter": "python",
   "pygments_lexer": "ipython3",
   "version": "3.9.12"
  }
 },
 "nbformat": 4,
 "nbformat_minor": 5
}
